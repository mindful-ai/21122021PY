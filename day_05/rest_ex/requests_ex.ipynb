{
 "cells": [
  {
   "cell_type": "code",
   "execution_count": 1,
   "metadata": {},
   "outputs": [],
   "source": [
    "url = r\"https://restcountries.com/v3.1/all\""
   ]
  },
  {
   "cell_type": "code",
   "execution_count": 2,
   "metadata": {},
   "outputs": [],
   "source": [
    "import requests"
   ]
  },
  {
   "cell_type": "code",
   "execution_count": 13,
   "metadata": {},
   "outputs": [],
   "source": [
    "c = requests.get(url)"
   ]
  },
  {
   "cell_type": "code",
   "execution_count": 14,
   "metadata": {},
   "outputs": [
    {
     "data": {
      "text/plain": [
       "requests.models.Response"
      ]
     },
     "execution_count": 14,
     "metadata": {},
     "output_type": "execute_result"
    }
   ],
   "source": [
    "type(c)\n"
   ]
  },
  {
   "cell_type": "code",
   "execution_count": 15,
   "metadata": {},
   "outputs": [
    {
     "data": {
      "text/plain": [
       "<Response [200]>"
      ]
     },
     "execution_count": 15,
     "metadata": {},
     "output_type": "execute_result"
    }
   ],
   "source": [
    "c"
   ]
  },
  {
   "cell_type": "code",
   "execution_count": 16,
   "metadata": {},
   "outputs": [],
   "source": [
    "data = c.json()"
   ]
  },
  {
   "cell_type": "code",
   "execution_count": 17,
   "metadata": {},
   "outputs": [
    {
     "data": {
      "text/plain": [
       "list"
      ]
     },
     "execution_count": 17,
     "metadata": {},
     "output_type": "execute_result"
    }
   ],
   "source": [
    "type(data)"
   ]
  },
  {
   "cell_type": "code",
   "execution_count": 18,
   "metadata": {},
   "outputs": [
    {
     "data": {
      "text/plain": [
       "'Malta'"
      ]
     },
     "execution_count": 18,
     "metadata": {},
     "output_type": "execute_result"
    }
   ],
   "source": [
    "data[0]['name']['common']"
   ]
  },
  {
   "cell_type": "code",
   "execution_count": 20,
   "metadata": {},
   "outputs": [
    {
     "name": "stdout",
     "output_type": "stream",
     "text": [
      "{'name': {'common': 'India', 'official': 'Republic of India', 'nativeName': {'eng': {'official': 'Republic of India', 'common': 'India'}, 'hin': {'official': 'भारत गणराज्य', 'common': 'भारत'}, 'tam': {'official': 'இந்தியக் குடியரசு', 'common': 'இந்தியா'}}}, 'tld': ['.in'], 'cca2': 'IN', 'ccn3': '356', 'cca3': 'IND', 'cioc': 'IND', 'independent': True, 'status': 'officially-assigned', 'unMember': True, 'currencies': {'INR': {'name': 'Indian rupee', 'symbol': '₹'}}, 'idd': {'root': '+9', 'suffixes': ['1']}, 'capital': ['New Delhi'], 'altSpellings': ['IN', 'Bhārat', 'Republic of India', 'Bharat Ganrajya', 'இந்தியா'], 'region': 'Asia', 'subregion': 'Southern Asia', 'languages': {'eng': 'English', 'hin': 'Hindi', 'tam': 'Tamil'}, 'translations': {'ara': {'official': 'جمهورية الهند', 'common': 'الهند'}, 'ces': {'official': 'Indická republika', 'common': 'Indie'}, 'cym': {'official': 'Republic of India', 'common': 'India'}, 'deu': {'official': 'Republik Indien', 'common': 'Indien'}, 'est': {'official': 'India Vabariik', 'common': 'India'}, 'fin': {'official': 'Intian tasavalta', 'common': 'Intia'}, 'fra': {'official': \"République de l'Inde\", 'common': 'Inde'}, 'hrv': {'official': 'Republika Indija', 'common': 'Indija'}, 'hun': {'official': 'Indiai Köztársaság', 'common': 'India'}, 'ita': {'official': \"Repubblica dell'India\", 'common': 'India'}, 'jpn': {'official': 'インド共和国', 'common': 'インド'}, 'kor': {'official': '인도 공화국', 'common': '인도'}, 'nld': {'official': 'Republiek India', 'common': 'India'}, 'per': {'official': 'جمهوری هندوستان', 'common': 'هند'}, 'pol': {'official': 'Republika Indii', 'common': 'Indie'}, 'por': {'official': 'República da Índia', 'common': 'Índia'}, 'rus': {'official': 'Республика Индия', 'common': 'Индия'}, 'slk': {'official': 'Indická republika', 'common': 'India'}, 'spa': {'official': 'República de la India', 'common': 'India'}, 'swe': {'official': 'Republiken Indien', 'common': 'Indien'}, 'urd': {'official': 'جمہوریہ بھارت', 'common': 'بھارت'}, 'zho': {'official': '印度共和国', 'common': '印度'}}, 'latlng': [20.0, 77.0], 'landlocked': False, 'borders': ['BGD', 'BTN', 'MMR', 'CHN', 'NPL', 'PAK'], 'area': 3287590.0, 'demonyms': {'eng': {'f': 'Indian', 'm': 'Indian'}, 'fra': {'f': 'Indienne', 'm': 'Indien'}}, 'flag': '🇮🇳', 'maps': {'googleMaps': 'https://goo.gl/maps/WSk3fLwG4vtPQetp7', 'openStreetMaps': 'https://www.openstreetmap.org/relation/304716'}, 'population': 1380004385, 'gini': {'2011': 35.7}, 'fifa': 'IND', 'car': {'signs': ['IND'], 'side': 'left'}, 'timezones': ['UTC+05:30'], 'continents': ['Asia'], 'flags': {'png': 'https://flagcdn.com/w320/in.png', 'svg': 'https://flagcdn.com/in.svg'}, 'coatOfArms': {'png': 'https://mainfacts.com/media/images/coats_of_arms/in.png', 'svg': 'https://mainfacts.com/media/images/coats_of_arms/in.svg'}, 'startOfWeek': 'monday', 'capitalInfo': {'latlng': [28.6, 77.2]}, 'postalCode': {'format': '######', 'regex': '^(\\\\d{6})$'}}\n"
     ]
    }
   ],
   "source": [
    "for i in range(0, len(data)):\n",
    "    if(data[i]['name']['common'].lower() == 'india'):\n",
    "        print(data[i])"
   ]
  },
  {
   "cell_type": "code",
   "execution_count": null,
   "metadata": {},
   "outputs": [],
   "source": []
  }
 ],
 "metadata": {
  "kernelspec": {
   "display_name": "Python 3",
   "language": "python",
   "name": "python3"
  },
  "language_info": {
   "codemirror_mode": {
    "name": "ipython",
    "version": 3
   },
   "file_extension": ".py",
   "mimetype": "text/x-python",
   "name": "python",
   "nbconvert_exporter": "python",
   "pygments_lexer": "ipython3",
   "version": "3.7.3"
  }
 },
 "nbformat": 4,
 "nbformat_minor": 2
}
