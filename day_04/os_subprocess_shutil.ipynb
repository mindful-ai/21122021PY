{
 "cells": [
  {
   "cell_type": "markdown",
   "metadata": {},
   "source": [
    "### 1. Program to organize the folder"
   ]
  },
  {
   "cell_type": "code",
   "execution_count": 1,
   "metadata": {},
   "outputs": [],
   "source": [
    "import os\n",
    "import os.path\n",
    "import shutil"
   ]
  },
  {
   "cell_type": "markdown",
   "metadata": {},
   "source": [
    "#### Step 1"
   ]
  },
  {
   "cell_type": "code",
   "execution_count": 2,
   "metadata": {},
   "outputs": [
    {
     "data": {
      "text/plain": [
       "'C:\\\\Users\\\\Purushotham\\\\Desktop\\\\oralcepy\\\\day_04'"
      ]
     },
     "execution_count": 2,
     "metadata": {},
     "output_type": "execute_result"
    }
   ],
   "source": [
    "os.getcwd()"
   ]
  },
  {
   "cell_type": "code",
   "execution_count": 3,
   "metadata": {},
   "outputs": [],
   "source": [
    "os.chdir(r\"C:\\Users\\Purushotham\\Desktop\\oralcepy\\day_04\\mydir\")"
   ]
  },
  {
   "cell_type": "code",
   "execution_count": 4,
   "metadata": {},
   "outputs": [
    {
     "data": {
      "text/plain": [
       "'C:\\\\Users\\\\Purushotham\\\\Desktop\\\\oralcepy\\\\day_04\\\\mydir'"
      ]
     },
     "execution_count": 4,
     "metadata": {},
     "output_type": "execute_result"
    }
   ],
   "source": [
    "os.getcwd()"
   ]
  },
  {
   "cell_type": "code",
   "execution_count": 5,
   "metadata": {},
   "outputs": [
    {
     "data": {
      "text/plain": [
       "['data1.txt',\n",
       " 'data1.xlsx',\n",
       " 'data2.txt',\n",
       " 'data2.xlsx',\n",
       " 'data3.txt',\n",
       " 'pres1.pptx',\n",
       " 'pres2.pptx',\n",
       " 'road.jpg',\n",
       " 'sunflower.jpg']"
      ]
     },
     "execution_count": 5,
     "metadata": {},
     "output_type": "execute_result"
    }
   ],
   "source": [
    "os.listdir()"
   ]
  },
  {
   "cell_type": "code",
   "execution_count": 6,
   "metadata": {},
   "outputs": [
    {
     "data": {
      "text/plain": [
       "('data1', '.txt')"
      ]
     },
     "execution_count": 6,
     "metadata": {},
     "output_type": "execute_result"
    }
   ],
   "source": [
    "f = 'data1.txt'\n",
    "os.path.splitext(f)"
   ]
  },
  {
   "cell_type": "code",
   "execution_count": 8,
   "metadata": {},
   "outputs": [
    {
     "data": {
      "text/plain": [
       "'txt'"
      ]
     },
     "execution_count": 8,
     "metadata": {},
     "output_type": "execute_result"
    }
   ],
   "source": [
    "os.path.splitext(f)[1][1:]"
   ]
  },
  {
   "cell_type": "code",
   "execution_count": 9,
   "metadata": {},
   "outputs": [
    {
     "data": {
      "text/plain": [
       "['txt', 'xlsx', 'txt', 'xlsx', 'txt', 'pptx', 'pptx', 'jpg', 'jpg']"
      ]
     },
     "execution_count": 9,
     "metadata": {},
     "output_type": "execute_result"
    }
   ],
   "source": [
    "exts = [os.path.splitext(f)[1][1:] for f in os.listdir()]\n",
    "exts"
   ]
  },
  {
   "cell_type": "code",
   "execution_count": 10,
   "metadata": {},
   "outputs": [
    {
     "data": {
      "text/plain": [
       "{'jpg', 'pptx', 'txt', 'xlsx'}"
      ]
     },
     "execution_count": 10,
     "metadata": {},
     "output_type": "execute_result"
    }
   ],
   "source": [
    "set(exts)"
   ]
  },
  {
   "cell_type": "code",
   "execution_count": 11,
   "metadata": {},
   "outputs": [],
   "source": [
    "for ext in set(exts):\n",
    "    os.mkdir(ext)"
   ]
  },
  {
   "cell_type": "markdown",
   "metadata": {},
   "source": [
    "#### Step 2"
   ]
  },
  {
   "cell_type": "code",
   "execution_count": 12,
   "metadata": {},
   "outputs": [
    {
     "data": {
      "text/plain": [
       "['data1.txt',\n",
       " 'data1.xlsx',\n",
       " 'data2.txt',\n",
       " 'data2.xlsx',\n",
       " 'data3.txt',\n",
       " 'jpg',\n",
       " 'pptx',\n",
       " 'pres1.pptx',\n",
       " 'pres2.pptx',\n",
       " 'road.jpg',\n",
       " 'sunflower.jpg',\n",
       " 'txt',\n",
       " 'xlsx']"
      ]
     },
     "execution_count": 12,
     "metadata": {},
     "output_type": "execute_result"
    }
   ],
   "source": [
    "os.listdir()"
   ]
  },
  {
   "cell_type": "code",
   "execution_count": 13,
   "metadata": {},
   "outputs": [
    {
     "data": {
      "text/plain": [
       "'C:\\\\Users\\\\Purushotham\\\\Desktop\\\\oralcepy\\\\day_04\\\\mydir\\\\jpg'"
      ]
     },
     "execution_count": 13,
     "metadata": {},
     "output_type": "execute_result"
    }
   ],
   "source": [
    "file = 'sunflower.jpg'\n",
    "os.path.join(os.getcwd(),os.path.splitext(file)[1][1:])"
   ]
  },
  {
   "cell_type": "code",
   "execution_count": 14,
   "metadata": {},
   "outputs": [],
   "source": [
    "for file in os.listdir():\n",
    "    if(os.path.isfile(file)):\n",
    "        target = os.path.join(os.getcwd(),os.path.splitext(file)[1][1:])\n",
    "        shutil.move(file, target)"
   ]
  },
  {
   "cell_type": "markdown",
   "metadata": {},
   "source": [
    "### 2. Program to launch system command and read their outputs"
   ]
  },
  {
   "cell_type": "code",
   "execution_count": 15,
   "metadata": {},
   "outputs": [],
   "source": [
    "import subprocess"
   ]
  },
  {
   "cell_type": "code",
   "execution_count": 16,
   "metadata": {},
   "outputs": [],
   "source": [
    "cmd = 'dir'"
   ]
  },
  {
   "cell_type": "code",
   "execution_count": 17,
   "metadata": {},
   "outputs": [
    {
     "data": {
      "text/plain": [
       "0"
      ]
     },
     "execution_count": 17,
     "metadata": {},
     "output_type": "execute_result"
    }
   ],
   "source": [
    "subprocess.call(cmd, shell=True)"
   ]
  },
  {
   "cell_type": "code",
   "execution_count": 18,
   "metadata": {},
   "outputs": [],
   "source": [
    "content = subprocess.check_output(cmd, shell=True)"
   ]
  },
  {
   "cell_type": "code",
   "execution_count": 25,
   "metadata": {
    "scrolled": true
   },
   "outputs": [
    {
     "name": "stdout",
     "output_type": "stream",
     "text": [
      "b' Volume in drive C is Windows\\r\\n Volume Serial Number is 68CD-4284\\r\\n\\r\\n Directory of C:\\\\Users\\\\Purushotham\\\\Desktop\\\\oralcepy\\\\day_04\\\\mydir\\r\\n\\r\\n23-12-2021  15:36    <DIR>          .\\r\\n23-12-2021  15:36    <DIR>          ..\\r\\n23-12-2021  15:36    <DIR>          jpg\\r\\n23-12-2021  15:36    <DIR>          pptx\\r\\n23-12-2021  15:36    <DIR>          txt\\r\\n23-12-2021  15:36    <DIR>          xlsx\\r\\n               0 File(s)              0 bytes\\r\\n               6 Dir(s)  238,424,977,408 bytes free\\r\\n'\n"
     ]
    }
   ],
   "source": [
    "print(content)\n"
   ]
  },
  {
   "cell_type": "code",
   "execution_count": 22,
   "metadata": {},
   "outputs": [
    {
     "data": {
      "text/plain": [
       "bytes"
      ]
     },
     "execution_count": 22,
     "metadata": {},
     "output_type": "execute_result"
    }
   ],
   "source": [
    "type(content)"
   ]
  },
  {
   "cell_type": "code",
   "execution_count": 26,
   "metadata": {},
   "outputs": [],
   "source": [
    "content = content.decode()"
   ]
  },
  {
   "cell_type": "code",
   "execution_count": 27,
   "metadata": {},
   "outputs": [
    {
     "data": {
      "text/plain": [
       "' Volume in drive C is Windows\\r\\n Volume Serial Number is 68CD-4284\\r\\n\\r\\n Directory of C:\\\\Users\\\\Purushotham\\\\Desktop\\\\oralcepy\\\\day_04\\\\mydir\\r\\n\\r\\n23-12-2021  15:36    <DIR>          .\\r\\n23-12-2021  15:36    <DIR>          ..\\r\\n23-12-2021  15:36    <DIR>          jpg\\r\\n23-12-2021  15:36    <DIR>          pptx\\r\\n23-12-2021  15:36    <DIR>          txt\\r\\n23-12-2021  15:36    <DIR>          xlsx\\r\\n               0 File(s)              0 bytes\\r\\n               6 Dir(s)  238,424,977,408 bytes free\\r\\n'"
      ]
     },
     "execution_count": 27,
     "metadata": {},
     "output_type": "execute_result"
    }
   ],
   "source": [
    "content\n"
   ]
  },
  {
   "cell_type": "code",
   "execution_count": 28,
   "metadata": {},
   "outputs": [
    {
     "data": {
      "text/plain": [
       "str"
      ]
     },
     "execution_count": 28,
     "metadata": {},
     "output_type": "execute_result"
    }
   ],
   "source": [
    "type(content)"
   ]
  },
  {
   "cell_type": "code",
   "execution_count": 29,
   "metadata": {},
   "outputs": [
    {
     "name": "stdout",
     "output_type": "stream",
     "text": [
      " Volume in drive C is Windows\r\n",
      " Volume Serial Number is 68CD-4284\r\n",
      "\r\n",
      " Directory of C:\\Users\\Purushotham\\Desktop\\oralcepy\\day_04\\mydir\r\n",
      "\r\n",
      "23-12-2021  15:36    <DIR>          .\r\n",
      "23-12-2021  15:36    <DIR>          ..\r\n",
      "23-12-2021  15:36    <DIR>          jpg\r\n",
      "23-12-2021  15:36    <DIR>          pptx\r\n",
      "23-12-2021  15:36    <DIR>          txt\r\n",
      "23-12-2021  15:36    <DIR>          xlsx\r\n",
      "               0 File(s)              0 bytes\r\n",
      "               6 Dir(s)  238,424,977,408 bytes free\r\n",
      "\n"
     ]
    }
   ],
   "source": [
    "print(content)"
   ]
  },
  {
   "cell_type": "code",
   "execution_count": null,
   "metadata": {},
   "outputs": [],
   "source": []
  }
 ],
 "metadata": {
  "kernelspec": {
   "display_name": "Python 3",
   "language": "python",
   "name": "python3"
  },
  "language_info": {
   "codemirror_mode": {
    "name": "ipython",
    "version": 3
   },
   "file_extension": ".py",
   "mimetype": "text/x-python",
   "name": "python",
   "nbconvert_exporter": "python",
   "pygments_lexer": "ipython3",
   "version": "3.7.3"
  }
 },
 "nbformat": 4,
 "nbformat_minor": 2
}
