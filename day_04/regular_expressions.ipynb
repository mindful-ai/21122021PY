{
 "cells": [
  {
   "cell_type": "markdown",
   "metadata": {},
   "source": [
    "### Regular Expressions - Part 1"
   ]
  },
  {
   "cell_type": "code",
   "execution_count": 2,
   "metadata": {},
   "outputs": [],
   "source": [
    "s = \"This line has 90.45 a floating point number\""
   ]
  },
  {
   "cell_type": "code",
   "execution_count": 3,
   "metadata": {},
   "outputs": [],
   "source": [
    "p = r\"\\d+\\.\\d*\""
   ]
  },
  {
   "cell_type": "code",
   "execution_count": 4,
   "metadata": {},
   "outputs": [],
   "source": [
    "import re"
   ]
  },
  {
   "cell_type": "code",
   "execution_count": 9,
   "metadata": {},
   "outputs": [],
   "source": [
    "m = re.search(p, s)"
   ]
  },
  {
   "cell_type": "code",
   "execution_count": 10,
   "metadata": {},
   "outputs": [
    {
     "data": {
      "text/plain": [
       "'90.45'"
      ]
     },
     "execution_count": 10,
     "metadata": {},
     "output_type": "execute_result"
    }
   ],
   "source": [
    "s[14:19]"
   ]
  },
  {
   "cell_type": "code",
   "execution_count": 11,
   "metadata": {},
   "outputs": [
    {
     "data": {
      "text/plain": [
       "(14, 19)"
      ]
     },
     "execution_count": 11,
     "metadata": {},
     "output_type": "execute_result"
    }
   ],
   "source": [
    "m.span() # Where"
   ]
  },
  {
   "cell_type": "code",
   "execution_count": 12,
   "metadata": {},
   "outputs": [
    {
     "data": {
      "text/plain": [
       "'90.45'"
      ]
     },
     "execution_count": 12,
     "metadata": {},
     "output_type": "execute_result"
    }
   ],
   "source": [
    "m.group() # What"
   ]
  },
  {
   "cell_type": "code",
   "execution_count": 13,
   "metadata": {},
   "outputs": [],
   "source": [
    "p = r\"(\\d+)\\.(\\d*)\" # creating sub groups"
   ]
  },
  {
   "cell_type": "code",
   "execution_count": 14,
   "metadata": {},
   "outputs": [],
   "source": [
    "m = re.search(p, s)"
   ]
  },
  {
   "cell_type": "code",
   "execution_count": 15,
   "metadata": {},
   "outputs": [
    {
     "data": {
      "text/plain": [
       "'90.45'"
      ]
     },
     "execution_count": 15,
     "metadata": {},
     "output_type": "execute_result"
    }
   ],
   "source": [
    "m.group()"
   ]
  },
  {
   "cell_type": "code",
   "execution_count": 16,
   "metadata": {},
   "outputs": [
    {
     "data": {
      "text/plain": [
       "('90', '45')"
      ]
     },
     "execution_count": 16,
     "metadata": {},
     "output_type": "execute_result"
    }
   ],
   "source": [
    "m.groups()"
   ]
  },
  {
   "cell_type": "code",
   "execution_count": 20,
   "metadata": {},
   "outputs": [],
   "source": [
    "p = r\"(?P<integer>\\d+)\\.(?P<floating>\\d*)\" # creating sub groups"
   ]
  },
  {
   "cell_type": "code",
   "execution_count": 21,
   "metadata": {},
   "outputs": [],
   "source": [
    "m = re.search(p, s)"
   ]
  },
  {
   "cell_type": "code",
   "execution_count": 22,
   "metadata": {},
   "outputs": [
    {
     "data": {
      "text/plain": [
       "'90.45'"
      ]
     },
     "execution_count": 22,
     "metadata": {},
     "output_type": "execute_result"
    }
   ],
   "source": [
    "m.group()\n"
   ]
  },
  {
   "cell_type": "code",
   "execution_count": 23,
   "metadata": {},
   "outputs": [
    {
     "data": {
      "text/plain": [
       "('90', '45')"
      ]
     },
     "execution_count": 23,
     "metadata": {},
     "output_type": "execute_result"
    }
   ],
   "source": [
    "m.groups()"
   ]
  },
  {
   "cell_type": "code",
   "execution_count": 24,
   "metadata": {},
   "outputs": [
    {
     "data": {
      "text/plain": [
       "{'integer': '90', 'floating': '45'}"
      ]
     },
     "execution_count": 24,
     "metadata": {},
     "output_type": "execute_result"
    }
   ],
   "source": [
    "m.groupdict()"
   ]
  },
  {
   "cell_type": "code",
   "execution_count": 26,
   "metadata": {},
   "outputs": [],
   "source": [
    "m = re.finditer(p, s)"
   ]
  },
  {
   "cell_type": "code",
   "execution_count": 27,
   "metadata": {},
   "outputs": [
    {
     "data": {
      "text/plain": [
       "<callable_iterator at 0x1ea5df130b8>"
      ]
     },
     "execution_count": 27,
     "metadata": {},
     "output_type": "execute_result"
    }
   ],
   "source": [
    "m"
   ]
  },
  {
   "cell_type": "code",
   "execution_count": 28,
   "metadata": {},
   "outputs": [
    {
     "data": {
      "text/plain": [
       "[<re.Match object; span=(14, 19), match='90.45'>]"
      ]
     },
     "execution_count": 28,
     "metadata": {},
     "output_type": "execute_result"
    }
   ],
   "source": [
    "list(m)"
   ]
  },
  {
   "cell_type": "code",
   "execution_count": 31,
   "metadata": {},
   "outputs": [
    {
     "data": {
      "text/plain": [
       "[('90', '45'), ('1', '345'), ('45', '67')]"
      ]
     },
     "execution_count": 31,
     "metadata": {},
     "output_type": "execute_result"
    }
   ],
   "source": [
    "s = \"This line has 90.45 a floating 1.345 point  -45.67 number\"\n",
    "re.findall(p, s)"
   ]
  },
  {
   "cell_type": "code",
   "execution_count": 32,
   "metadata": {},
   "outputs": [],
   "source": [
    "m = re.finditer(p, s)"
   ]
  },
  {
   "cell_type": "code",
   "execution_count": 33,
   "metadata": {},
   "outputs": [
    {
     "data": {
      "text/plain": [
       "[<re.Match object; span=(14, 19), match='90.45'>,\n",
       " <re.Match object; span=(31, 36), match='1.345'>,\n",
       " <re.Match object; span=(45, 50), match='45.67'>]"
      ]
     },
     "execution_count": 33,
     "metadata": {},
     "output_type": "execute_result"
    }
   ],
   "source": [
    "list(m)"
   ]
  },
  {
   "cell_type": "markdown",
   "metadata": {},
   "source": [
    "### Regular Expressions - Part 2"
   ]
  },
  {
   "cell_type": "code",
   "execution_count": 35,
   "metadata": {},
   "outputs": [
    {
     "name": "stdout",
     "output_type": "stream",
     "text": [
      "abc matched in 'abc'\n",
      "a6c matched in '123 a6c'\n",
      "abc matched in 'abc ab'\n"
     ]
    }
   ],
   "source": [
    "import re\n",
    "data = ['ab', 'abc', 'a5e', 'a6f', '123 a6c', 'a5b', 'a55b', 'a555b', 'a5555b',\n",
    "        'a55555b', 'a555555b', 'a5xb', '1/4', '3+2=5', 'def ghi', 'abc ab']\n",
    "for item in data:\n",
    "\tm = re.search(r'a.c', item)\n",
    "\tif m:\n",
    "\t\tprint (m.group() + ' matched in ' + '\\'' + item + '\\'')\n"
   ]
  },
  {
   "cell_type": "code",
   "execution_count": 36,
   "metadata": {},
   "outputs": [
    {
     "name": "stdout",
     "output_type": "stream",
     "text": [
      "abc matched in 'abc'\n",
      "a6c matched in '123 a6c'\n",
      "abc matched in 'abc ab'\n"
     ]
    }
   ],
   "source": [
    "for item in data:\n",
    "\tm = re.search(r'a.c', item)\n",
    "\tif m:\n",
    "\t\tprint (m.group() + ' matched in ' + '\\'' + item + '\\'')"
   ]
  },
  {
   "cell_type": "code",
   "execution_count": 37,
   "metadata": {},
   "outputs": [
    {
     "name": "stdout",
     "output_type": "stream",
     "text": [
      "abc matched in 'abc'\n",
      "abc matched in 'abc ab'\n"
     ]
    }
   ],
   "source": [
    "for item in data:\n",
    "\tm = re.search(r'a[abc]c', item)\n",
    "\tif m:\n",
    "\t\tprint (m.group() + ' matched in ' + '\\'' + item + '\\'')"
   ]
  },
  {
   "cell_type": "code",
   "execution_count": 38,
   "metadata": {},
   "outputs": [
    {
     "name": "stdout",
     "output_type": "stream",
     "text": [
      "a6c matched in '123 a6c'\n"
     ]
    }
   ],
   "source": [
    "for item in data:\n",
    "\tm = re.search(r'a[^abc]c', item)\n",
    "\tif m:\n",
    "\t\tprint (m.group() + ' matched in ' + '\\'' + item + '\\'')"
   ]
  },
  {
   "cell_type": "code",
   "execution_count": 41,
   "metadata": {},
   "outputs": [
    {
     "name": "stdout",
     "output_type": "stream",
     "text": [
      "This is McDonald's Berger\n"
     ]
    }
   ],
   "source": [
    "print('This is McDonald\\'s Berger')"
   ]
  },
  {
   "cell_type": "code",
   "execution_count": 42,
   "metadata": {},
   "outputs": [],
   "source": [
    "for item in data:\n",
    "\tm = re.search(r'3+2', item)\n",
    "\tif m:\n",
    "\t\tprint (m.group() + ' matched in ' + '\\'' + item + '\\'')"
   ]
  },
  {
   "cell_type": "code",
   "execution_count": 43,
   "metadata": {},
   "outputs": [
    {
     "name": "stdout",
     "output_type": "stream",
     "text": [
      "3+2 matched in '3+2=5'\n"
     ]
    }
   ],
   "source": [
    "for item in data:\n",
    "\tm = re.search(r'3\\+2', item)\n",
    "\tif m:\n",
    "\t\tprint (m.group() + ' matched in ' + '\\'' + item + '\\'')"
   ]
  },
  {
   "cell_type": "code",
   "execution_count": 44,
   "metadata": {},
   "outputs": [
    {
     "name": "stdout",
     "output_type": "stream",
     "text": [
      "abc matched in 'abc'\n",
      "123 matched in '123 a6c'\n",
      "abc matched in 'abc ab'\n"
     ]
    }
   ],
   "source": [
    "for item in data:\n",
    "\tm = re.search(r'a.c|1.3', item)\n",
    "\tif m:\n",
    "\t\tprint (m.group() + ' matched in ' + '\\'' + item + '\\'')"
   ]
  },
  {
   "cell_type": "code",
   "execution_count": 45,
   "metadata": {},
   "outputs": [
    {
     "name": "stdout",
     "output_type": "stream",
     "text": [
      "a6c matched in '123 a6c'\n"
     ]
    }
   ],
   "source": [
    "for item in data:\n",
    "\tm = re.search(r'a\\dc', item)\n",
    "\tif m:\n",
    "\t\tprint (m.group() + ' matched in ' + '\\'' + item + '\\'')"
   ]
  },
  {
   "cell_type": "code",
   "execution_count": 48,
   "metadata": {},
   "outputs": [
    {
     "name": "stdout",
     "output_type": "stream",
     "text": [
      "abc matched in 'abc'\n",
      "a5e matched in 'a5e'\n",
      "a6f matched in 'a6f'\n",
      "a6c matched in '123 a6c'\n",
      "a5b matched in 'a5b'\n",
      "a5x matched in 'a5xb'\n",
      "abc matched in 'abc ab'\n"
     ]
    }
   ],
   "source": [
    "for item in data:\n",
    "\tm = re.search(r'a\\w\\D', item)\n",
    "\tif m:\n",
    "\t\tprint (m.group() + ' matched in ' + '\\'' + item + '\\'')"
   ]
  },
  {
   "cell_type": "code",
   "execution_count": 47,
   "metadata": {},
   "outputs": [
    {
     "name": "stdout",
     "output_type": "stream",
     "text": [
      "123 a matched in '123 a6c'\n",
      "def g matched in 'def ghi'\n",
      "abc a matched in 'abc ab'\n"
     ]
    }
   ],
   "source": [
    "for item in data:\n",
    "\tm = re.search(r'...\\s.', item)\n",
    "\tif m:\n",
    "\t\tprint (m.group() + ' matched in ' + '\\'' + item + '\\'')"
   ]
  },
  {
   "cell_type": "code",
   "execution_count": 49,
   "metadata": {},
   "outputs": [
    {
     "name": "stdout",
     "output_type": "stream",
     "text": [
      "a6 matched in 'a6f'\n",
      "a6 matched in '123 a6c'\n"
     ]
    }
   ],
   "source": [
    "for item in data:\n",
    "\tm = re.search(r'a6', item)\n",
    "\tif m:\n",
    "\t\tprint (m.group() + ' matched in ' + '\\'' + item + '\\'')\n",
    "        "
   ]
  },
  {
   "cell_type": "code",
   "execution_count": 50,
   "metadata": {},
   "outputs": [
    {
     "name": "stdout",
     "output_type": "stream",
     "text": [
      "a6 matched in 'a6f'\n"
     ]
    }
   ],
   "source": [
    "for item in data:\n",
    "\tm = re.search(r'^a6', item)\n",
    "\tif m:\n",
    "\t\tprint (m.group() + ' matched in ' + '\\'' + item + '\\'')"
   ]
  },
  {
   "cell_type": "code",
   "execution_count": 51,
   "metadata": {},
   "outputs": [
    {
     "name": "stdout",
     "output_type": "stream",
     "text": [
      "abc matched in 'abc'\n",
      "a6c matched in '123 a6c'\n",
      "abc matched in 'abc ab'\n"
     ]
    }
   ],
   "source": [
    "for item in data:\n",
    "\tm = re.search(r'..c', item)\n",
    "\tif m:\n",
    "\t\tprint (m.group() + ' matched in ' + '\\'' + item + '\\'')"
   ]
  },
  {
   "cell_type": "code",
   "execution_count": 54,
   "metadata": {},
   "outputs": [
    {
     "name": "stdout",
     "output_type": "stream",
     "text": [
      "abc matched in 'abc'\n",
      "a6c matched in '123 a6c'\n"
     ]
    }
   ],
   "source": [
    "for item in data:\n",
    "\tm = re.search(r'..c$', item)\n",
    "\tif m:\n",
    "\t\tprint (m.group() + ' matched in ' + '\\'' + item + '\\'')"
   ]
  },
  {
   "cell_type": "code",
   "execution_count": 55,
   "metadata": {},
   "outputs": [
    {
     "name": "stdout",
     "output_type": "stream",
     "text": [
      "ab matched in 'ab'\n",
      "ab matched in 'abc ab'\n"
     ]
    }
   ],
   "source": [
    "for item in data:\n",
    "\tm = re.search(r'ab\\b', item)\n",
    "\tif m:\n",
    "\t\tprint (m.group() + ' matched in ' + '\\'' + item + '\\'')"
   ]
  },
  {
   "cell_type": "code",
   "execution_count": 56,
   "metadata": {},
   "outputs": [
    {
     "name": "stdout",
     "output_type": "stream",
     "text": [
      "ab matched in 'abc'\n",
      "ab matched in 'abc ab'\n"
     ]
    }
   ],
   "source": [
    "for item in data:\n",
    "\tm = re.search(r'ab\\B', item)\n",
    "\tif m:\n",
    "\t\tprint (m.group() + ' matched in ' + '\\'' + item + '\\'')"
   ]
  },
  {
   "cell_type": "code",
   "execution_count": 57,
   "metadata": {},
   "outputs": [
    {
     "name": "stdout",
     "output_type": "stream",
     "text": [
      "a555 matched in 'a555b'\n",
      "a5555 matched in 'a5555b'\n",
      "a55555 matched in 'a55555b'\n",
      "a555555 matched in 'a555555b'\n"
     ]
    }
   ],
   "source": [
    "for item in data:\n",
    "\tm = re.search(r'a5555*', item)\n",
    "\tif m:\n",
    "\t\tprint (m.group() + ' matched in ' + '\\'' + item + '\\'')"
   ]
  },
  {
   "cell_type": "code",
   "execution_count": 58,
   "metadata": {},
   "outputs": [
    {
     "name": "stdout",
     "output_type": "stream",
     "text": [
      "a5555 matched in 'a5555b'\n",
      "a55555 matched in 'a55555b'\n",
      "a555555 matched in 'a555555b'\n"
     ]
    }
   ],
   "source": [
    "for item in data:\n",
    "\tm = re.search(r'a5555+', item)\n",
    "\tif m:\n",
    "\t\tprint (m.group() + ' matched in ' + '\\'' + item + '\\'')"
   ]
  },
  {
   "cell_type": "code",
   "execution_count": 59,
   "metadata": {},
   "outputs": [
    {
     "name": "stdout",
     "output_type": "stream",
     "text": [
      "a555 matched in 'a555b'\n",
      "a5555 matched in 'a5555b'\n",
      "a5555 matched in 'a55555b'\n",
      "a5555 matched in 'a555555b'\n"
     ]
    }
   ],
   "source": [
    "for item in data:\n",
    "\tm = re.search(r'a5555?', item)\n",
    "\tif m:\n",
    "\t\tprint (m.group() + ' matched in ' + '\\'' + item + '\\'')"
   ]
  },
  {
   "cell_type": "code",
   "execution_count": 60,
   "metadata": {},
   "outputs": [
    {
     "name": "stdout",
     "output_type": "stream",
     "text": [
      "a55555 matched in 'a55555b'\n",
      "a55555 matched in 'a555555b'\n"
     ]
    }
   ],
   "source": [
    "for item in data:\n",
    "\tm = re.search(r'a555{3}', item)\n",
    "\tif m:\n",
    "\t\tprint (m.group() + ' matched in ' + '\\'' + item + '\\'')"
   ]
  },
  {
   "cell_type": "code",
   "execution_count": 61,
   "metadata": {},
   "outputs": [
    {
     "name": "stdout",
     "output_type": "stream",
     "text": [
      "a5555 matched in 'a5555b'\n",
      "a55555 matched in 'a55555b'\n",
      "a555555 matched in 'a555555b'\n"
     ]
    }
   ],
   "source": [
    "for item in data:\n",
    "\tm = re.search(r'a55{3,5}', item)\n",
    "\tif m:\n",
    "\t\tprint (m.group() + ' matched in ' + '\\'' + item + '\\'')"
   ]
  },
  {
   "cell_type": "code",
   "execution_count": 62,
   "metadata": {},
   "outputs": [
    {
     "name": "stdout",
     "output_type": "stream",
     "text": [
      "a5555 matched in 'a5555b'\n",
      "a55555 matched in 'a55555b'\n",
      "a555555 matched in 'a555555b'\n"
     ]
    }
   ],
   "source": [
    "for item in data:\n",
    "\tm = re.search(r'a55{3,}', item)\n",
    "\tif m:\n",
    "\t\tprint (m.group() + ' matched in ' + '\\'' + item + '\\'')"
   ]
  },
  {
   "cell_type": "code",
   "execution_count": 63,
   "metadata": {},
   "outputs": [
    {
     "name": "stdout",
     "output_type": "stream",
     "text": [
      "a5 matched in 'a5e'\n",
      "a5 matched in 'a5b'\n",
      "a55 matched in 'a55b'\n",
      "a555 matched in 'a555b'\n",
      "a5555 matched in 'a5555b'\n",
      "a55555 matched in 'a55555b'\n",
      "a555555 matched in 'a555555b'\n",
      "a5 matched in 'a5xb'\n"
     ]
    }
   ],
   "source": [
    "for item in data:\n",
    "\tm = re.search(r'a55{,5}', item)\n",
    "\tif m:\n",
    "\t\tprint (m.group() + ' matched in ' + '\\'' + item + '\\'')"
   ]
  },
  {
   "cell_type": "code",
   "execution_count": null,
   "metadata": {},
   "outputs": [],
   "source": []
  }
 ],
 "metadata": {
  "kernelspec": {
   "display_name": "Python 3",
   "language": "python",
   "name": "python3"
  },
  "language_info": {
   "codemirror_mode": {
    "name": "ipython",
    "version": 3
   },
   "file_extension": ".py",
   "mimetype": "text/x-python",
   "name": "python",
   "nbconvert_exporter": "python",
   "pygments_lexer": "ipython3",
   "version": "3.7.3"
  }
 },
 "nbformat": 4,
 "nbformat_minor": 2
}
